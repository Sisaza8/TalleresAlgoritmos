{
  "cells": [
    {
      "cell_type": "markdown",
      "metadata": {
        "id": "svZa0r16bMoV"
      },
      "source": [
        "<h1 align=\"center\">Taller 06 - Introducción a Listas</h1>"
      ]
    },
    {
      "cell_type": "markdown",
      "metadata": {
        "id": "irVwKxiEbMoX"
      },
      "source": [
        "## Ejercicio 01: Crear una lista\n",
        "\n",
        "Suponga que tenemos los puntos que han hecho en el campeonato de fútbol, cinco equipos colombianos. Escribir un programa que crea una lista, llamada ``puntos_equipos`` que contiene los puntos de junior, panteras, millonarios, nacional y america, en ese orden. Utilice la variables que están en el programa. Luego imprima la lista, usando la función ``print()``."
      ]
    },
    {
      "cell_type": "code",
      "execution_count": 6,
      "metadata": {
        "id": "v4LEnX-PbMoY"
      },
      "outputs": [
        {
          "name": "stdout",
          "output_type": "stream",
          "text": [
            "[47, 27, 3, 18, 23]\n",
            "Prueba superada 😎\n"
          ]
        }
      ],
      "source": [
        "# Las variables con los puntos de los equipos\n",
        "Junior = 47\n",
        "Panteras = 27\n",
        "Millonarios = 3\n",
        "Nacional = 18\n",
        "America = 23\n",
        "# TODO: Crear la lista puntos_equipos\n",
        "puntos_equipos = [Junior,Panteras,Millonarios,Nacional,America]\n",
        "# TODO: imprimir la lista\n",
        "print (puntos_equipos)\n",
        "# Verificación\n",
        "assert puntos_equipos == [47, 27, 3, 18, 23]\n",
        "print(\"Prueba superada 😎\")"
      ]
    },
    {
      "cell_type": "markdown",
      "metadata": {
        "id": "30WUyWEKbMoa"
      },
      "source": [
        "---"
      ]
    },
    {
      "cell_type": "markdown",
      "metadata": {
        "id": "4y6qUrYQbMob"
      },
      "source": [
        "## Ejercicio 02: Obtener datos de la lista\n",
        "\n",
        "Suponga que tenemos la lista con las edades de varios estudiantes. Escriba instrucciones para llevar a cabos las siguientes tareas:\n",
        "\n",
        "* Imprimir el tamaño o el número de elementos de la lista ``edades``.\n",
        "* Imprimir el segundo elemento de la lista de ``edades`` (debe ser un 11)\n",
        "* Obtener e imprimir el último elemento de la lista de ``edades`` (que debe ser un 9). Use un índice negativo.\n",
        "* Imprimir el elemento que se encuentra en la mitad de la lista (que debe ser un 20).\n",
        "* Usando múltiples índices, guardar en una variable, llamada ``primeros`` los primeros 6 elementos de la lista de ``edades``. Imprima la variable ``primeros``.\n",
        "* Usando múltiples índices, guardar en una variable llamada ``ultimos`` los últimos 4 elementos de la lista de ``eddades``. Imprima la varibale ``ultimos``.\n"
      ]
    },
    {
      "cell_type": "code",
      "execution_count": 7,
      "metadata": {
        "id": "HpBHGePrbMob"
      },
      "outputs": [
        {
          "name": "stdout",
          "output_type": "stream",
          "text": [
            "El tamaño es:  9\n",
            "El segundo elemento es:  11\n",
            "El ultimo elemento es:  9\n",
            "El elemento de la mitad es:  20\n",
            "Los primeros 6 elementos son:  [18, 11, 34, 63, 20, 28]\n",
            "Los últimos 4 elementos son:  [28, 45, 22, 9]\n",
            "Los primeros 6 elementos omitiendo el primero son:  [11, 34, 63, 20, 28]\n",
            "Los últimos 4 elementos omitiendo el último son:  [28, 45, 22]\n"
          ]
        }
      ],
      "source": [
        "# Tenemos la lista de edades\n",
        "edades = [18, 11, 34, 63, 20, 28, 45, 22, 9]\n",
        "\n",
        "# TODO: Imprimir el tamaño o el número de elementos de la lista edades.\n",
        "print (\"El tamaño es: \",len(edades))\n",
        "\n",
        "# TODO: Imprimir el segundo elemento de la lista de edades (debe ser un 11)\n",
        "print (\"El segundo elemento es: \", edades[1])\n",
        "\n",
        "# TODO: Obtener e imprimir el último elemento de la lista de edades (que debe ser un 9). Use un índice negativo.\n",
        "print (\"El ultimo elemento es: \", edades[-1])\n",
        "\n",
        "# TODO: Imprimir el elemento que se encuentra en la mitad de la lista (que debe ser un 20).\n",
        "print (\"El elemento de la mitad es: \", edades[len(edades)//2])\n",
        "\n",
        "# TODO: Usando múltiples índices, guardar en una variable, llamada primeros los primeros 6 elementos de la lista de edades. Imprima la variable primeros.\n",
        "primeros=edades[0:6]\n",
        "print (\"Los primeros 6 elementos son: \", primeros)\n",
        "\n",
        "# TODO: Usando múltiples índices, guardar en una variable llamada ultimos los últimos 4 elementos de la lista de eddades. Imprima la varibale ultimos.\n",
        "ultimos=edades[5:9]\n",
        "print (\"Los últimos 4 elementos son: \", ultimos)\n",
        "\n",
        "# TODO: Guardar en otra variable ``primeros2`` otra vez los primeros 6 elementos de la lista ``edades``. Esta vez simplifique la escogencia omitiendo el índice inicial\n",
        "primeros2=edades[1:6]\n",
        "print (\"Los primeros 6 elementos omitiendo el primero son: \", primeros2)\n",
        "\n",
        "# TODO: Guardar en otra variable ``ultimos2`` otra vez los últimos 4 elementos de la lista ``edades``. Esta vez simplifique la escogencia omitiendo el índice final\n",
        "ultimos2=edades[5:8]\n",
        "print (\"Los últimos 4 elementos omitiendo el último son: \", ultimos2)"
      ]
    },
    {
      "cell_type": "markdown",
      "metadata": {
        "id": "ewLkSTfWbMob"
      },
      "source": [
        "---"
      ]
    },
    {
      "cell_type": "markdown",
      "metadata": {
        "id": "YhPF6V-fbMoc"
      },
      "source": [
        "## Ejercicio 03: Manipulando listas\n",
        "\n",
        "Vamos a realizar el siguiente trabajo para modificar la lista de edades.\n",
        "\n",
        "* Actualice el valor del último elemento de la lista ``edades``. Ya no queremos que sea un ``9`` sino que sea un 19.\n",
        "* Modifique el valor del tercer elemento de la lista de ``edades``. Guardar un 24 en esa posición.\n",
        "* Imprima la lista de edades. Verifique que el tercer elemento sea un 24, y que el último sea un 19.\n",
        "* Agregue los elementos ``21``, ``32`` y ``16`` al final de la lista ``edades``. Imprima el tamaño de la lista y luego imprima la lista.\n",
        "* Elimine el primer elemento de la lista, y luego elimine el quinto elemento de la lista de edades. Imprima la lista y el tamaño de la lista también."
      ]
    },
    {
      "cell_type": "code",
      "execution_count": 8,
      "metadata": {
        "id": "-tZKFjhQbMoc"
      },
      "outputs": [
        {
          "name": "stdout",
          "output_type": "stream",
          "text": [
            "Nuevo último:  19\n",
            "Nuevo tercer elemento:  24\n",
            "[18, 11, 24, 63, 20, 28, 45, 22, 19]\n",
            "Nuevo tamaño: 12 Nueva lista:  [18, 11, 24, 63, 20, 28, 45, 22, 19, 21, 32, 16]\n",
            "Nuevo tamaño: 10 Nueva lista:  [11, 24, 63, 28, 45, 22, 19, 21, 32, 16]\n"
          ]
        }
      ],
      "source": [
        "edades=[18, 11, 34, 63, 20, 28, 45, 22, 9]\n",
        "# TODO: Actualice el valor del último elemento de la lista edades. Ya no queremos que sea un 9 sino que sea un 19.\n",
        "edades[-1]=19\n",
        "print (\"Nuevo último: \",edades[-1])\n",
        "\n",
        "# TODO: Modifique el valor del tercer elemento de la lista de edades. Guardar un 24 en esa posición.\n",
        "edades[2]=24\n",
        "print (\"Nuevo tercer elemento: \",edades[2])\n",
        "\n",
        "# TODO: Imprima la lista de edades. Verifique que el tercer elemento sea un 24, y que el último sea un 19.\n",
        "print (edades)\n",
        "\n",
        "# TODO: Agregue los elementos 21, 32 y 16 al final de la lista edades. Imprima el tamaño de la lista y luego imprima la lista.\n",
        "edades.append(21)\n",
        "edades.append(32)\n",
        "edades.append(16)\n",
        "print (\"Nuevo tamaño:\", len(edades), \"Nueva lista: \",edades)\n",
        "\n",
        "# TODO: Elimine el primer elemento de la lista, y luego elimine el quinto elemento de la lista de edades. Imprima la lista y el tamaño de la lista también.\n",
        "edades.remove(18)\n",
        "edades.remove(20)\n",
        "print (\"Nuevo tamaño:\", len(edades), \"Nueva lista: \",edades)\n"
      ]
    },
    {
      "cell_type": "markdown",
      "metadata": {
        "id": "_r7O0ST_bMod"
      },
      "source": [
        "---"
      ]
    },
    {
      "cell_type": "markdown",
      "metadata": {
        "id": "wFbbvqEzbMod"
      },
      "source": [
        "## Ejercicio 04 - Leer una lista de números\n",
        "\n",
        "Escribir un **programa** en Python que lea la edad de $N$ estudiantes del curso, los almacene en una lista de números y luego imprima la lista"
      ]
    },
    {
      "cell_type": "code",
      "execution_count": 12,
      "metadata": {
        "id": "jBrsBWHdbMod"
      },
      "outputs": [
        {
          "name": "stdout",
          "output_type": "stream",
          "text": [
            "Lista de edades: [16, 18, 26]\n"
          ]
        }
      ],
      "source": [
        "# Programa en Python para leer la edad de varios estudiantes. \n",
        "# Vamos a preguntar cuantos estudiantes hay = N.\n",
        "c=0\n",
        "e=int(input(\"¿Cuantos estudiantes hay?: \"))\n",
        "edades=[]\n",
        "while True:\n",
        "    if(c==e):\n",
        "        break\n",
        "    edad= int(input(\"Ingrese la edad: \"))\n",
        "    edades.append(edad)\n",
        "    c=c+1\n",
        "print(\"Lista de edades:\",edades)"
      ]
    },
    {
      "cell_type": "markdown",
      "metadata": {
        "id": "f6S-ynMebMoe"
      },
      "source": [
        "---\n",
        "\n",
        "## Ejercicio 05 - Leer una lista de tuplas\n",
        "\n",
        "Escribir un **Programa** que le pregunte al usuario el nombre de paises y sus capitales, los guarde en un *Par*  o *Tupla*, y luego almacene ese par en una lista. Para finalizar, el nombre del país y el nombre de la capital deben ser vacíos (al tiempo). Imprima la lista una vez finalice la lectura de los datos"
      ]
    },
    {
      "cell_type": "code",
      "execution_count": 34,
      "metadata": {},
      "outputs": [
        {
          "name": "stdout",
          "output_type": "stream",
          "text": [
            "[('Colombia', 'Bogota'), ('España', 'Madrid')]\n"
          ]
        }
      ],
      "source": [
        "# Programa en Python para leer paises y capitales. Vamos a preguntar cuantos paises leer.\n",
        "lista=[]\n",
        "while True:\n",
        "    pais= input(\"Ingrese el país: \")\n",
        "    capital= input(f\"Ingrese la capital del país ({pais}): \")\n",
        "    if(pais==\"\" and capital==\"\"):\n",
        "        break\n",
        "    par=(pais,capital)\n",
        "    lista.append(par)\n",
        "print(lista)"
      ]
    },
    {
      "cell_type": "markdown",
      "metadata": {
        "id": "EbkEj8DzbMoe"
      },
      "source": [
        "---\n",
        "\n",
        "## Ejercicio 06 \n",
        "\n",
        "Escribir un Programa en Python que le pregunte a un usuario el nombre, carrera y promedio en la carrera, de varios estudiantes de la universidad, almacene cada uno de esos tres datos en una tupla, y luego guarde la tupla en una lista. Al final, imprima la lista. Use un while para saber si debemos seguir o no en la lectura de los datos."
      ]
    },
    {
      "cell_type": "code",
      "execution_count": 13,
      "metadata": {
        "id": "mhfK-n60bMof"
      },
      "outputs": [
        {
          "name": "stdout",
          "output_type": "stream",
          "text": [
            "[('Santiago', 'sistemas', '76')]\n"
          ]
        }
      ],
      "source": [
        "# Programa en Python para leer información de varios estudiantes. Use un while para saber si seguimos la lectura o no\n",
        "lista=[]\n",
        "while True:\n",
        "    nombre=input(\"Ingrese el nombre: \")\n",
        "    carrera=input(\"Ingrese la carrera: \")\n",
        "    promedio=input(f\"Ingrese el promedio de la carrera ({carrera}): \")\n",
        "    if(nombre==\"\" and carrera==\"\" and promedio==\"\"):\n",
        "        break\n",
        "    conjunto=(nombre,carrera,promedio)\n",
        "    lista.append(conjunto)\n",
        "    print(lista)"
      ]
    },
    {
      "cell_type": "markdown",
      "metadata": {
        "id": "SX2wZ6xXbMof"
      },
      "source": [
        "---\n",
        "\n",
        "## Ejercicio 07 - Contar de una lista \n",
        "\n",
        "Escriba una **función** en Python que reciba una lista de números ```float``` que representa los promedios de temperatura en Bogotá en los últimos días, y que retorne cuántas de esas temperaturas están entre los 15 y los 20 grados centígrados."
      ]
    },
    {
      "cell_type": "code",
      "execution_count": 14,
      "metadata": {
        "id": "OMfvbRVqbMof"
      },
      "outputs": [
        {
          "name": "stdout",
          "output_type": "stream",
          "text": [
            "Prueba superada 💪🏽\n"
          ]
        }
      ],
      "source": [
        "# Función que cuenta en una lista\n",
        "def contar_temperaturas(x=[float]) -> int:\n",
        "    c=0\n",
        "    for i in x:\n",
        "        if(i>=15 and i<=20):\n",
        "            c=c+1\n",
        "    return c\n",
        "\n",
        "\n",
        "# Pruebas de la función anterior\n",
        "assert contar_temperaturas([11, 18, 23.5, 19.5, 6, 16.3, 22.1, 4.6, 18.9, 18.6, 15.1, 16.1, 19.9, 1.5, 12, 21.7]) == 8\n",
        "print(\"Prueba superada 💪🏽\")"
      ]
    },
    {
      "cell_type": "markdown",
      "metadata": {
        "id": "3Q2V-oj3bMof"
      },
      "source": [
        "---\n",
        "\n",
        "## Ejercicio 08\n",
        "\n",
        "Escriba una **función** en Python que reciba una lista de números enteros que representan la edad de los diversos compañeros del curso, y que calcule y retorne cuántos de esos compañeros son menores de edad, es decir, cuántas edades son inferiores a 18 años."
      ]
    },
    {
      "cell_type": "code",
      "execution_count": 15,
      "metadata": {
        "id": "K6R15n6HbMof"
      },
      "outputs": [
        {
          "name": "stdout",
          "output_type": "stream",
          "text": [
            "Prueba superada 💪🏽\n"
          ]
        }
      ],
      "source": [
        "# Función que cuenta los menores de edad en una lista de edades\n",
        "def e8(listaedades=[int]) -> int:\n",
        "    c=0\n",
        "    x=0\n",
        "    for i in listaedades:\n",
        "        if(listaedades[x]<18):\n",
        "            c=c+1\n",
        "        x=x+1\n",
        "    return c\n",
        "\n",
        "# Pruebas de la función anterior\n",
        "assert e8([23, 31, 16, 11, 21, 18, 34, 45, 17, 16, 32, 43, 20, 19, 18, 16, 14, 33]) == 6\n",
        "print(\"Prueba superada 💪🏽\")"
      ]
    },
    {
      "cell_type": "markdown",
      "metadata": {
        "id": "fpt_tnokbMog"
      },
      "source": [
        "---\n",
        "\n",
        "## Ejercicio 09\n",
        "\n",
        "SEn Python, resulta que una palabra es una lista de letras. A partir de esto, escriba una **función** en Python que cuente en esa lista de letras cuántas vocales en minúsculas hay en la lista.\n"
      ]
    },
    {
      "cell_type": "code",
      "execution_count": 16,
      "metadata": {
        "id": "XjktPZwkbMog"
      },
      "outputs": [
        {
          "name": "stdout",
          "output_type": "stream",
          "text": [
            "Prueba superada 💪🏽\n"
          ]
        }
      ],
      "source": [
        "# Función que cuenta las vocales en una palabra\n",
        "def e9(palabra: str) -> int:\n",
        "    vocales=[\"a\", \"e\", \"i\", \"o\", \"u\"]\n",
        "    c=0\n",
        "    for i in vocales:\n",
        "        for x in palabra:\n",
        "            if(i==x):\n",
        "                c= c+1\n",
        "    return c\n",
        "\n",
        "# Pruebas de la función anterior\n",
        "assert (e9(\"Lorem ipsum dolor sit Amet, consectetur adipiscing elit\")) == 18\n",
        "assert (e9(\"Ut enim ad minima veniam, quis nostrum exercitationem ullam corporis\")) == 25\n",
        "print(\"Prueba superada 💪🏽\")"
      ]
    },
    {
      "cell_type": "markdown",
      "metadata": {
        "id": "p10Xz2gebMog"
      },
      "source": [
        "---\n",
        "\n",
        "## Ejercicio 10\n",
        "\n",
        "Escriba una función en Python que reciba una lista de números enteros positivos, y que retorne cuántos de los números de la lista son múltiplos de 2, 3 y 5 al mismo tiempo."
      ]
    },
    {
      "cell_type": "code",
      "execution_count": 17,
      "metadata": {
        "id": "E47Dy2PTbMog"
      },
      "outputs": [
        {
          "name": "stdout",
          "output_type": "stream",
          "text": [
            "Prueba superada 💪🏽\n"
          ]
        }
      ],
      "source": [
        "# Función que cuenta los múltiplos\n",
        "def e10(numeros= [int]) -> int:\n",
        "    c=0\n",
        "    x=0\n",
        "    for i in numeros:\n",
        "        if(numeros[x]%2==0 and numeros[x]%3==0 and numeros[x]%5==0):\n",
        "            c=c+1\n",
        "        x=x+1\n",
        "    return c\n",
        "\n",
        "# Pruebas para la función anterior\n",
        "assert (e10([5, 10, 30, 25, 24, 60, 12, 100, 120, 15, 90, 95, 36, 35, 72, 180])) == 5\n",
        "print(\"Prueba superada 💪🏽\")"
      ]
    },
    {
      "cell_type": "markdown",
      "metadata": {
        "id": "Y57WAmMlbMoh"
      },
      "source": [
        "---\n",
        "\n",
        "## Ejercicio 11 - Múltiples contadores\n",
        "\n",
        "Escriba una función en Python que reciba una lista con los nombre de los perros de mis vecinos, y que retorne cuántos perros de la lista se llaman ```\"fifi\"``` y cuantos se llaman ```\"mateo\"```. **OJO: Son dos contadores diferentes**."
      ]
    },
    {
      "cell_type": "code",
      "execution_count": 21,
      "metadata": {
        "id": "GFo24Q99bMoh"
      },
      "outputs": [
        {
          "name": "stdout",
          "output_type": "stream",
          "text": [
            "Prueba superada 💪🏽\n"
          ]
        }
      ],
      "source": [
        "# Función que cuenta el número de perros\n",
        "def e11(perros= [str]) -> (int, int):\n",
        "    fifi=0\n",
        "    mateo=0\n",
        "    for x in perros:\n",
        "        if(x==\"fifi\"):\n",
        "            fifi= fifi+1\n",
        "        if(x==\"mateo\"):\n",
        "            mateo= mateo+1\n",
        "    return fifi,mateo\n",
        "    \n",
        "\n",
        "# Prueba de la función anterior\n",
        "assert (e11([\"lila\", \"firulais\", \"romeo\", \"fifi\", \"neron\", \"milagro\", \"fifi\", \"lila\", \"cariño\", \"rosa\", \"fifi\", \"mateo\", \"rex\"])) == (3,1)\n",
        "print(\"Prueba superada 💪🏽\")"
      ]
    },
    {
      "cell_type": "markdown",
      "metadata": {
        "id": "S5nX-Km-bMoi"
      },
      "source": [
        "---\n",
        "\n",
        "## Ejercicio 12 - Contar en listas de tuplas\n",
        "\n",
        "En una tupla de dos elementos hemos almacenado el resultado de cada uno de los partidos que ha jugado el Junior de Barranquilla. El primer elemento es la cantidad de goles que hizo el equipo en el partido, y el segundo elemento corresponde a los goles que le hicieron al equipo en el partido. Escriba una función que reciba esta lista de tuplas con los resultados de los partidos, y que retorne cuántos partidos ganó en total, cuántos empató y cuántos perdió."
      ]
    },
    {
      "cell_type": "code",
      "execution_count": 22,
      "metadata": {
        "id": "tL4YTpS2bMoi"
      },
      "outputs": [
        {
          "name": "stdout",
          "output_type": "stream",
          "text": [
            "Prueba superada 💪🏽\n"
          ]
        }
      ],
      "source": [
        "# Función para contar partidos\n",
        "def resultadospartidos(partidos=[(int, int)]) -> (int, int, int):\n",
        "    x=0\n",
        "    y=0\n",
        "    z=0\n",
        "    for a,b in partidos:\n",
        "        if(a==b):\n",
        "            z=z+1\n",
        "        elif(a>b):\n",
        "            x=x+1\n",
        "        else:\n",
        "            y=y+1\n",
        "    return x,z,y\n",
        "\n",
        "# prueba de la función anterior\n",
        "assert (resultadospartidos([(1, 3), (0, 0), (4, 0), (5, 3), (2, 2), (4, 3), (1, 0), (1, 2), (0, 0), (3, 2), (3, 1), (7, 0), (0, 2), (3, 3), (4, 2), (3, 4)])) == (8, 4, 4)\n",
        "print(\"Prueba superada 💪🏽\")"
      ]
    },
    {
      "cell_type": "markdown",
      "metadata": {
        "id": "J_vW5IaLbMoi"
      },
      "source": [
        "---\n",
        "\n",
        "# Ejercicio 13\n",
        "\n",
        "La información de los salarios de una empresa se almacena en una tupla de 3 elementos, de la siguiente manera:\n",
        "\n",
        "* El primer elemento es el cargo del empleado\n",
        "* El segundo elemento de la tupla es la edad del empleado\n",
        "* El tercer elemento de la tupla es el sueldo del empleado\n",
        "\n",
        "Escriba una función en Python que reciba esta lista de tuplas con la información de los empleados, y que retorne cuántos empleados que tienen un cargo de gerente o contador, tienen entre 45 y 50 años, pero ganan menos de dos millones de pesos."
      ]
    },
    {
      "cell_type": "code",
      "execution_count": 28,
      "metadata": {
        "id": "ZLwVYvO6bMoj"
      },
      "outputs": [
        {
          "name": "stdout",
          "output_type": "stream",
          "text": [
            "Prueba superada 💪🏽\n"
          ]
        }
      ],
      "source": [
        "# Función para resolver el ejercicio 13\n",
        "def e13(empleados= [(str, int, float)]) -> int:\n",
        "    x=0\n",
        "    for a,b,c in empleados:\n",
        "        if((a==\"gerente\" or a==\"contador\") and (b>=45 and b<=50) and (c<2000000)):\n",
        "            x=x+1\n",
        "    return x\n",
        "\n",
        "# Pruebas de la función anterior\n",
        "assert (e13([(\"director\", 38, 1500000), (\"gerente\", 47, 1450000), (\"celador\", 63, 700000), (\"director\", 29, 2700000),\n",
        "                    (\"contador\", 51, 1900000), (\"contador\", 49, 1900000), (\"analista\", 23, 11200000), (\"gerente\", 46, 1200000),\n",
        "                    (\"contador\", 39, 2100000), (\"profesional\", 36, 2100000), (\"gerente\", 45, 1050000), (\"contador\", 46, 800000)])) == 5\n",
        "print(\"Prueba superada 💪🏽\")  "
      ]
    },
    {
      "cell_type": "markdown",
      "metadata": {
        "id": "tfVx2BWbbMoj"
      },
      "source": [
        "---\n",
        "\n",
        "# Ejercicio 14\n",
        "\n",
        "Un estudiante registra toda su historia académica en una lista de tuplas con la siguiente conformación:\n",
        "\n",
        "* El primer elemento es el nombre de la unidad de estudio\n",
        "* El segundo elemento es número de créditos de la unidad de estudio\n",
        "* El tercer elemento es el semestre al que pertenece esa unidad de estudio\n",
        "* El cuarto y quinto elemento son las notas del primer corte y segundo corte de la unidad de estudios\n",
        "\n",
        "Sabiendo que para obtener la nota final de una unidad de estudios debemos tener en cuenta que el primer corte pesa el 40% de la nota final, y el segundo corte pesa el 60% de la nota, escriba una función que reciba esta lista con las notas del estudiante y que retorne cuántas unidades de estudio perdió el estudiante."
      ]
    },
    {
      "cell_type": "code",
      "execution_count": 24,
      "metadata": {
        "id": "xOtABZ4JbMoj"
      },
      "outputs": [
        {
          "name": "stdout",
          "output_type": "stream",
          "text": [
            "Prueba superada 💪🏽\n"
          ]
        }
      ],
      "source": [
        "# Función para resolver el Ejercicio 14: Completar los datos de entrada\n",
        "def e14(materias=[(str,int,int,int,int)]) -> int:\n",
        "    resultado=60\n",
        "    x=0\n",
        "    for a,b,c,d,e in materias:\n",
        "        c1= d*0.4\n",
        "        c2= e*0.6\n",
        "        suma=c1+c2\n",
        "        if(suma<resultado):\n",
        "            x=x+1\n",
        "    return x\n",
        "\n",
        "# Pruebas para la función anterior\n",
        "assert (e14([(\"calculo\", 6, 1, 45, 67), (\"frances\", 3, 2, 77, 89), (\"calculo\", 6, 1, 72, 58), (\"ecuaciones\", 3, 4, 68, 61),\n",
        "                    (\"ingles basico\", 3, 2, 79, 85), (\"quimica\", 4, 1, 88, 92), (\"fisica\", 3, 2, 56, 61), (\"procesos\", 3, 4, 75, 77),\n",
        "                    (\"cultura\", 2, 3, 33, 21), (\"deportes\", 2, 1, 98, 90), (\"cocina\", 3, 4, 79, 98), (\"estadistica\", 3, 4, 53, 10)])) == 4\n",
        "\n",
        "print(\"Prueba superada 💪🏽\") "
      ]
    },
    {
      "cell_type": "markdown",
      "metadata": {
        "id": "yrHlb7OsbMok"
      },
      "source": [
        "---\n",
        "\n",
        "# Ejercicio 15\n",
        "\n",
        "La información sobre todos los contagiados de Coronavirus son almacenados en una tupla con la siguiente coformación:\n",
        "\n",
        "* El primer elemento de la tupla es el género del contagiado ('M' = masculino, y 'F' = femenino)\n",
        "* El segundo elemento es la edad del contagiado\n",
        "* El tercer elemento de la tupla es cuantos días lleva contagiado\n",
        "* El cuarto elemento es si el contagiado falleció o no (True == si falleció, False == no falleció)\n",
        "\n",
        "Escriba una función en Python que reciba una lista con estas tuplas que representan la información de los contagiados y que retorne cuántas mujeres mayores de 60 años han fallecido y cuántos menores de edad tienen más de una semana de haber sido contagiados."
      ]
    },
    {
      "cell_type": "code",
      "execution_count": 27,
      "metadata": {
        "id": "DKh7AHUsbMok"
      },
      "outputs": [
        {
          "name": "stdout",
          "output_type": "stream",
          "text": [
            "Prueba superada 💪🏽\n"
          ]
        }
      ],
      "source": [
        "# Función para resolver el Ejercicio 15\n",
        "def e15(contagiados=[(str, int, int, bool)]) -> (int, int):\n",
        "    x=0\n",
        "    y=0\n",
        "    for a,b,c,d in contagiados:\n",
        "        if(a==\"F\" and b>60 and d==True):\n",
        "            x=x+1\n",
        "        elif(b<18 and c>7):\n",
        "            y=y+1\n",
        "    return x,y\n",
        "\n",
        "# Pruebas de la función anterior\n",
        "assert (e15([('M', 23, 12, False), ('M', 45, 3, False), ('M', 72, 6, True), ('F', 81, 11, True), ('M', 11, 12, False), ('M', 17, 8, True), \n",
        "('F', 77, 3, True), ('M', 67, 4, False), ('F', 61, 5, True), ('M', 14, 28, False), ('M', 44, 11, True), ('M', 6, 3, False), ('M', 28, 19, False), \n",
        "('F', 91, 10, True)])) == (4, 3)\n",
        "print(\"Prueba superada 💪🏽\")         "
      ]
    },
    {
      "cell_type": "markdown",
      "metadata": {
        "id": "ejNsZlafbMok"
      },
      "source": [
        "---\n",
        "\n",
        "# Ejercicio 16\n",
        "\n",
        "Seguimos trabajando con la lista de contagiados presentada anteriormente. Escriba una función que permita saber cuantos fallecido hay de cada género, es decir, cuántas mujeres han fallecido y cuántos hombres han fallecido."
      ]
    },
    {
      "cell_type": "code",
      "execution_count": 30,
      "metadata": {
        "id": "GN9aZMI3bMol"
      },
      "outputs": [
        {
          "name": "stdout",
          "output_type": "stream",
          "text": [
            "Prueba superada 💪🏽\n"
          ]
        }
      ],
      "source": [
        "# Función para resolver el ejercicio 16\n",
        "def e16(contagiados=[(str, int, int, bool)]) -> (int, int):\n",
        "    h=0\n",
        "    m=0\n",
        "    for a,b,c,d in contagiados:\n",
        "        if(a==\"M\" and d==True):\n",
        "            h=h+1\n",
        "        elif(a==\"F\" and d==True):\n",
        "            m=m+1\n",
        "    return m,h\n",
        "\n",
        "# Pruebas de la función anterior\n",
        "assert (e16([('M', 23, 12, False), ('M', 45, 3, False), ('M', 72, 6, True), ('F', 81, 11, True), ('M', 11, 12, False), ('M', 17, 8, True),\n",
        "('F', 77, 3, True), ('M', 67, 4, False), ('F', 61, 5, True), ('M', 14, 28, False), ('M', 44, 11, True), ('M', 6, 3, False),\n",
        "('M', 28, 19, False), ('F', 91, 10, True), ('F', 72, 6, True)])) == (5, 3)\n",
        "print(\"Prueba superada 💪🏽\")   "
      ]
    },
    {
      "cell_type": "markdown",
      "metadata": {
        "id": "aoQi0iSAbMol"
      },
      "source": [
        "---\n",
        "\n",
        "## Ejercicio 17\n",
        "\n",
        "Seguimos trabajando con la lista de contagiados. Ahora queremos saber cuántas personas que no han fallecido tienen entre 20 y 30 años de edad."
      ]
    },
    {
      "cell_type": "code",
      "execution_count": 31,
      "metadata": {
        "id": "Wen5WsmZbMol"
      },
      "outputs": [
        {
          "name": "stdout",
          "output_type": "stream",
          "text": [
            "Prueba superada 💪🏽\n"
          ]
        }
      ],
      "source": [
        "# Función para resolver el ejercicio 17\n",
        "def e17(contagiados=[(str, int, int, bool)]) -> int:\n",
        "    x=0\n",
        "    for a,b,c,d in contagiados:\n",
        "        if((b>=20 and b<=30) and d==False):\n",
        "            x=x+1\n",
        "    return x\n",
        "\n",
        "# Pruebas de la función anterior\n",
        "assert (e17([('M', 23, 12, False), ('M', 45, 3, False), ('M', 72, 6, True), ('F', 81, 11, True), ('M', 11, 12, False), ('M', 17, 8, True),\n",
        "                   ('F', 77, 3, True), ('M', 67, 4, False), ('F', 61, 5, True), ('M', 14, 28, False), ('M', 44, 11, True), ('M', 6, 3, False),\n",
        "                    ('M', 28, 19, False), ('F', 91, 10, True), ('F', 72, 6, True), ('F', 26, 5, False)])) == 3\n",
        "print(\"Prueba superada 💪🏽\")   "
      ]
    }
  ],
  "metadata": {
    "colab": {
      "name": "Taller_06.ipynb",
      "provenance": []
    },
    "kernelspec": {
      "display_name": "Python 3.10.7 64-bit",
      "language": "python",
      "name": "python3"
    },
    "language_info": {
      "codemirror_mode": {
        "name": "ipython",
        "version": 3
      },
      "file_extension": ".py",
      "mimetype": "text/x-python",
      "name": "python",
      "nbconvert_exporter": "python",
      "pygments_lexer": "ipython3",
      "version": "3.10.7"
    },
    "vscode": {
      "interpreter": {
        "hash": "d8c7e21896bdaab20feaa67de8731295fbba61773230cdb5f8be5f3de3a599ac"
      }
    }
  },
  "nbformat": 4,
  "nbformat_minor": 0
}
